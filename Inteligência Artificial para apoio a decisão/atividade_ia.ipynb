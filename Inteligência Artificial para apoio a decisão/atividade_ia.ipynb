{
  "nbformat": 4,
  "nbformat_minor": 0,
  "metadata": {
    "colab": {
      "provenance": []
    },
    "kernelspec": {
      "name": "python3",
      "display_name": "Python 3"
    },
    "language_info": {
      "name": "python"
    }
  },
  "cells": [
    {
      "cell_type": "markdown",
      "source": [
        "# Siga o passo a passo a seguir, programando nos blocos de código as instruções contidas nos blocos de texto."
      ],
      "metadata": {
        "id": "uGsCjeSU1oIJ"
      }
    },
    {
      "cell_type": "markdown",
      "source": [
        "1. Importe a base de dados de filmes que está disponível em https://drive.google.com/file/d/1wZm914T5wPwY5mj-Y3nm9650bi8eBcH5/view?usp=sharing."
      ],
      "metadata": {
        "id": "Gx0fOYfw284E"
      }
    },
    {
      "cell_type": "code",
      "source": [
        "import pandas as pd\n",
        "url = 'https://drive.google.com/file/d/1wZm914T5wPwY5mj-Y3nm9650bi8eBcH5/view?usp=sharing'\n",
        "file_id = url.split('/')[-2]\n",
        "dwn_url = 'https://drive.google.com/uc?id=' + file_id\n",
        "df = pd.read_csv(dwn_url)"
      ],
      "metadata": {
        "id": "P7rKp0Ns3DLT"
      },
      "execution_count": 5,
      "outputs": []
    },
    {
      "cell_type": "markdown",
      "source": [
        "2.  Remova todas as entradas que tiverem NaN na coluna \"vote_average\" e \"vote_count\"."
      ],
      "metadata": {
        "id": "lDwsW6NFCm8j"
      }
    },
    {
      "cell_type": "code",
      "source": [
        "df = df.dropna(subset=['vote_average', 'vote_count'])"
      ],
      "metadata": {
        "id": "Pv-wGHPYClMa"
      },
      "execution_count": 8,
      "outputs": []
    },
    {
      "cell_type": "markdown",
      "source": [
        "3. Calcule a média de rating geral e liste/selecione/exiba todos os filmes que estão com \"vote_average\" acima dessa média."
      ],
      "metadata": {
        "id": "LmSjnxQtCk6N"
      }
    },
    {
      "cell_type": "code",
      "source": [
        "# Convertendo a coluna 'vote_average' para string\n",
        "df['vote_average'] = df['vote_average'].astype(str)\n",
        "\n",
        "# Substituindo vírgulas por pontos\n",
        "df['vote_average'] = df['vote_average'].str.replace(',', '.')\n",
        "\n",
        "# Convertendo a coluna 'vote_average' para float\n",
        "df['vote_average'] = df['vote_average'].astype(float)\n",
        "\n",
        "# Agora você pode calcular a média e filtrar os filmes como antes\n",
        "average_rating = df['vote_average'].mean()\n",
        "above_average = df[df['vote_average'] > average_rating]\n",
        "print(above_average)"
      ],
      "metadata": {
        "id": "TWbDyUG-DKJN",
        "outputId": "8521a415-b771-4ae1-da63-01ab2ce09f3f",
        "colab": {
          "base_uri": "https://localhost:8080/"
        }
      },
      "execution_count": 10,
      "outputs": [
        {
          "output_type": "stream",
          "name": "stdout",
          "text": [
            "      Unnamed: 0                                              title  \\\n",
            "1              1                                          Bloodshot   \n",
            "2              2                                  Bad Boys for Life   \n",
            "3              3                                            Ant-Man   \n",
            "5              5  Birds of Prey (and the Fantabulous Emancipatio...   \n",
            "8              8                                         Underwater   \n",
            "...          ...                                                ...   \n",
            "2997        2997                                        To the Bone   \n",
            "3000        3000                                      Che: Part One   \n",
            "3001        3001                                         The Grinch   \n",
            "3009        3009                                      A Ghost Story   \n",
            "3014        3014                                     Don't Look Now   \n",
            "\n",
            "                                               overview original_language  \\\n",
            "1     After he and his wife are murdered, marine Ray...                en   \n",
            "2     Marcus and Mike are forced to confront new thr...                en   \n",
            "3     Armed with the astonishing ability to shrink i...                en   \n",
            "5     Harley Quinn joins forces with a singer, an as...                en   \n",
            "8     After an earthquake destroys their underwater ...                en   \n",
            "...                                                 ...               ...   \n",
            "2997  A young woman dealing with anorexia meets an u...                en   \n",
            "3000  The Argentine, begins as Che and a band of Cub...                en   \n",
            "3001  The Grinch hatches a scheme to ruin Christmas ...                en   \n",
            "3009  Recently deceased, a white-sheeted ghost retur...                en   \n",
            "3014  Laura and John, grieved by a terrible loss, me...                en   \n",
            "\n",
            "     vote_count  vote_average  \n",
            "1        1349,0           7.2  \n",
            "2        2530,0           7.1  \n",
            "3       13611,0           7.1  \n",
            "5        2639,0           7.1  \n",
            "8         584,0           6.5  \n",
            "...         ...           ...  \n",
            "2997     2539,0           7.3  \n",
            "3000      418,0           6.9  \n",
            "3001     1577,0           6.5  \n",
            "3009     1176,0           7.0  \n",
            "3014      429,0           7.0  \n",
            "\n",
            "[1676 rows x 6 columns]\n"
          ]
        }
      ]
    },
    {
      "cell_type": "markdown",
      "source": [
        "4. Gere um gráfico de barras com os cinco gêneros que mais aparecem (mesmo que um gênero para um filme seja uma lista de gêneros, considere a lista como um gênero só). O eixo y deve ser a quantidade de vezes que um gênero aparece na base de dados."
      ],
      "metadata": {
        "id": "BkKxKvsmUYAw"
      }
    },
    {
      "cell_type": "code",
      "source": [
        "import matplotlib.pyplot as plt\n",
        "from collections import Counter\n",
        "\n",
        "# Definindo palavras-chave para cada gênero\n",
        "genres_keywords = {\n",
        "    'action': ['action', 'war', 'battle', 'fight'],\n",
        "    'comedy': ['comedy', 'funny', 'humor', 'joke'],\n",
        "    'drama': ['drama', 'serious', 'realistic'],\n",
        "    'romance': ['romance', 'love', 'relationship'],\n",
        "    'horror': ['horror', 'scary', 'fear', 'terror']\n",
        "}\n",
        "\n",
        "# Contando a frequência de cada gênero\n",
        "genre_counts = Counter()\n",
        "\n",
        "for overview in df['overview']:\n",
        "    if isinstance(overview, str):  # Adicionando a verificação aqui\n",
        "        for genre, keywords in genres_keywords.items():\n",
        "            if any(keyword in overview for keyword in keywords):\n",
        "                genre_counts[genre] += 1\n",
        "\n",
        "# Selecionando os cinco gêneros mais comuns\n",
        "top_five_genres = genre_counts.most_common(5)\n",
        "\n",
        "# Gerando o gráfico de barras\n",
        "genres, counts = zip(*top_five_genres)\n",
        "plt.figure(figsize=(10,5))\n",
        "plt.bar(genres, counts)\n",
        "plt.xlabel('Genres')\n",
        "plt.ylabel('Frequency')\n",
        "plt.title('Top Five Most Common Genres')\n",
        "plt.show()"
      ],
      "metadata": {
        "id": "D5lwVJ5EUYp-",
        "outputId": "f2c73610-6a5c-4a09-fc3f-d81ed4424402",
        "colab": {
          "base_uri": "https://localhost:8080/",
          "height": 487
        }
      },
      "execution_count": 13,
      "outputs": [
        {
          "output_type": "display_data",
          "data": {
            "text/plain": [
              "<Figure size 1000x500 with 1 Axes>"
            ],
            "image/png": "[encoded data removed]"
          },
          "metadata": {}
        }
      ]
    }
  ]
}